{
 "cells": [
  {
   "cell_type": "code",
   "execution_count": 2,
   "metadata": {},
   "outputs": [
    {
     "name": "stdout",
     "output_type": "stream",
     "text": [
      "0.0266666666667\n"
     ]
    }
   ],
   "source": [
    "#Question 1\n",
    "pA=0.30\n",
    "pB=0.16\n",
    "pAifB=0.05\n",
    "pBifA=(pAifB*pB)/pA\n",
    "print(pBifA)"
   ]
  },
  {
   "cell_type": "code",
   "execution_count": 3,
   "metadata": {},
   "outputs": [
    {
     "name": "stdout",
     "output_type": "stream",
     "text": [
      "0.583333333333\n"
     ]
    }
   ],
   "source": [
    "#Question 2\n",
    "bag1=1.0/2 #probability of selecting bag1\n",
    "bag2=1.0/2 #probability of selecting bag2\n",
    "black1=6.0/10 #probability of selecting black ball from bag1\n",
    "black2=3.0/7 #probability of selecting black ball from bag2\n",
    "pblack1=(bag1*black1)/((bag1*black1)+(bag2*black2))\n",
    "print(pblack1)"
   ]
  },
  {
   "cell_type": "code",
   "execution_count": 4,
   "metadata": {},
   "outputs": [
    {
     "name": "stdout",
     "output_type": "stream",
     "text": [
      "0.285714285714\n"
     ]
    }
   ],
   "source": [
    "#Question 3\n",
    "truth=2.0/3 #probability of speaking truth\n",
    "lie=1.0/3 #probability of speaking lie\n",
    "p4=1.0/6 #probability of number obtained is 4\n",
    "pn4=5.0/6 #probability of number obtained is not 4\n",
    "probab=(truth*p4)/((truth*p4)+(lie*pn4))\n",
    "print(probab)"
   ]
  },
  {
   "cell_type": "code",
   "execution_count": null,
   "metadata": {},
   "outputs": [],
   "source": []
  }
 ],
 "metadata": {
  "kernelspec": {
   "display_name": "Python 2",
   "language": "python",
   "name": "python2"
  },
  "language_info": {
   "codemirror_mode": {
    "name": "ipython",
    "version": 2
   },
   "file_extension": ".py",
   "mimetype": "text/x-python",
   "name": "python",
   "nbconvert_exporter": "python",
   "pygments_lexer": "ipython2",
   "version": "2.7.15"
  }
 },
 "nbformat": 4,
 "nbformat_minor": 2
}
